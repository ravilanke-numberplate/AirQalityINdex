{
  "nbformat": 4,
  "nbformat_minor": 0,
  "metadata": {
    "colab": {
      "name": "OCR.ipynb",
      "provenance": [],
      "collapsed_sections": [],
      "include_colab_link": true
    },
    "kernelspec": {
      "name": "python3",
      "display_name": "Python 3"
    }
  },
  "cells": [
    {
      "cell_type": "markdown",
      "metadata": {
        "id": "view-in-github",
        "colab_type": "text"
      },
      "source": [
        "<a href=\"https://colab.research.google.com/github/ravilanke-numberplate/AirQalityINdex/blob/main/OCR.ipynb\" target=\"_parent\"><img src=\"https://colab.research.google.com/assets/colab-badge.svg\" alt=\"Open In Colab\"/></a>"
      ]
    },
    {
      "cell_type": "code",
      "metadata": {
        "id": "HiYzx_X9M_M6",
        "colab": {
          "base_uri": "https://localhost:8080/"
        },
        "outputId": "f3dcea71-e97c-43c6-b78c-d28834250058"
      },
      "source": [
        "!sudo apt install tesseract-ocr"
      ],
      "execution_count": 1,
      "outputs": [
        {
          "output_type": "stream",
          "text": [
            "Reading package lists... Done\n",
            "Building dependency tree       \n",
            "Reading state information... Done\n",
            "The following additional packages will be installed:\n",
            "  tesseract-ocr-eng tesseract-ocr-osd\n",
            "The following NEW packages will be installed:\n",
            "  tesseract-ocr tesseract-ocr-eng tesseract-ocr-osd\n",
            "0 upgraded, 3 newly installed, 0 to remove and 40 not upgraded.\n",
            "Need to get 4,795 kB of archives.\n",
            "After this operation, 15.8 MB of additional disk space will be used.\n",
            "Get:1 http://archive.ubuntu.com/ubuntu bionic/universe amd64 tesseract-ocr-eng all 4.00~git24-0e00fe6-1.2 [1,588 kB]\n",
            "Get:2 http://archive.ubuntu.com/ubuntu bionic/universe amd64 tesseract-ocr-osd all 4.00~git24-0e00fe6-1.2 [2,989 kB]\n",
            "Get:3 http://archive.ubuntu.com/ubuntu bionic/universe amd64 tesseract-ocr amd64 4.00~git2288-10f4998a-2 [218 kB]\n",
            "Fetched 4,795 kB in 1s (4,377 kB/s)\n",
            "debconf: unable to initialize frontend: Dialog\n",
            "debconf: (No usable dialog-like program is installed, so the dialog based frontend cannot be used. at /usr/share/perl5/Debconf/FrontEnd/Dialog.pm line 76, <> line 3.)\n",
            "debconf: falling back to frontend: Readline\n",
            "debconf: unable to initialize frontend: Readline\n",
            "debconf: (This frontend requires a controlling tty.)\n",
            "debconf: falling back to frontend: Teletype\n",
            "dpkg-preconfigure: unable to re-open stdin: \n",
            "Selecting previously unselected package tesseract-ocr-eng.\n",
            "(Reading database ... 160837 files and directories currently installed.)\n",
            "Preparing to unpack .../tesseract-ocr-eng_4.00~git24-0e00fe6-1.2_all.deb ...\n",
            "Unpacking tesseract-ocr-eng (4.00~git24-0e00fe6-1.2) ...\n",
            "Selecting previously unselected package tesseract-ocr-osd.\n",
            "Preparing to unpack .../tesseract-ocr-osd_4.00~git24-0e00fe6-1.2_all.deb ...\n",
            "Unpacking tesseract-ocr-osd (4.00~git24-0e00fe6-1.2) ...\n",
            "Selecting previously unselected package tesseract-ocr.\n",
            "Preparing to unpack .../tesseract-ocr_4.00~git2288-10f4998a-2_amd64.deb ...\n",
            "Unpacking tesseract-ocr (4.00~git2288-10f4998a-2) ...\n",
            "Setting up tesseract-ocr-osd (4.00~git24-0e00fe6-1.2) ...\n",
            "Setting up tesseract-ocr-eng (4.00~git24-0e00fe6-1.2) ...\n",
            "Setting up tesseract-ocr (4.00~git2288-10f4998a-2) ...\n",
            "Processing triggers for man-db (2.8.3-2ubuntu0.1) ...\n"
          ],
          "name": "stdout"
        }
      ]
    },
    {
      "cell_type": "code",
      "metadata": {
        "id": "jOSD6S4DNPDQ",
        "colab": {
          "base_uri": "https://localhost:8080/"
        },
        "outputId": "12dc927c-c023-4213-d348-c563b3419869"
      },
      "source": [
        "!pip install pytesseract"
      ],
      "execution_count": 2,
      "outputs": [
        {
          "output_type": "stream",
          "text": [
            "Collecting pytesseract\n",
            "  Downloading pytesseract-0.3.8.tar.gz (14 kB)\n",
            "Requirement already satisfied: Pillow in /usr/local/lib/python3.7/dist-packages (from pytesseract) (7.1.2)\n",
            "Building wheels for collected packages: pytesseract\n",
            "  Building wheel for pytesseract (setup.py) ... \u001b[?25l\u001b[?25hdone\n",
            "  Created wheel for pytesseract: filename=pytesseract-0.3.8-py2.py3-none-any.whl size=14071 sha256=a8c592e8fafdc7cb149fb494ae8f4398fed29956d8f751ad8812e125ba13d031\n",
            "  Stored in directory: /root/.cache/pip/wheels/a4/89/b9/3f11250225d0f90e5454fcc30fd1b7208db226850715aa9ace\n",
            "Successfully built pytesseract\n",
            "Installing collected packages: pytesseract\n",
            "Successfully installed pytesseract-0.3.8\n"
          ],
          "name": "stdout"
        }
      ]
    },
    {
      "cell_type": "code",
      "metadata": {
        "id": "hYhrUJjyNchO"
      },
      "source": [
        "import pytesseract\n",
        "import shutil\n",
        "import os\n",
        "import random\n",
        "import matplotlib.pyplot as plt\n",
        "import cv2\n",
        "try:\n",
        " from PIL import Image,ImageFilter\n",
        "except ImportError:\n",
        " import Image"
      ],
      "execution_count": 3,
      "outputs": []
    },
    {
      "cell_type": "code",
      "metadata": {
        "id": "pzs--Alarhk3",
        "colab": {
          "base_uri": "https://localhost:8080/"
        },
        "outputId": "9fdcf12c-80f8-43c6-cd6e-9e64d514b1a7"
      },
      "source": [
        "pip install Wand"
      ],
      "execution_count": 4,
      "outputs": [
        {
          "output_type": "stream",
          "text": [
            "Collecting Wand\n",
            "  Downloading Wand-0.6.6-py2.py3-none-any.whl (138 kB)\n",
            "\u001b[?25l\r\u001b[K     |██▍                             | 10 kB 23.6 MB/s eta 0:00:01\r\u001b[K     |████▊                           | 20 kB 29.7 MB/s eta 0:00:01\r\u001b[K     |███████                         | 30 kB 12.7 MB/s eta 0:00:01\r\u001b[K     |█████████▌                      | 40 kB 9.8 MB/s eta 0:00:01\r\u001b[K     |███████████▉                    | 51 kB 5.3 MB/s eta 0:00:01\r\u001b[K     |██████████████▏                 | 61 kB 5.8 MB/s eta 0:00:01\r\u001b[K     |████████████████▋               | 71 kB 5.5 MB/s eta 0:00:01\r\u001b[K     |███████████████████             | 81 kB 6.2 MB/s eta 0:00:01\r\u001b[K     |█████████████████████▎          | 92 kB 6.3 MB/s eta 0:00:01\r\u001b[K     |███████████████████████▊        | 102 kB 5.0 MB/s eta 0:00:01\r\u001b[K     |██████████████████████████      | 112 kB 5.0 MB/s eta 0:00:01\r\u001b[K     |████████████████████████████▍   | 122 kB 5.0 MB/s eta 0:00:01\r\u001b[K     |██████████████████████████████▊ | 133 kB 5.0 MB/s eta 0:00:01\r\u001b[K     |████████████████████████████████| 138 kB 5.0 MB/s \n",
            "\u001b[?25hInstalling collected packages: Wand\n",
            "Successfully installed Wand-0.6.6\n"
          ],
          "name": "stdout"
        }
      ]
    },
    {
      "cell_type": "code",
      "metadata": {
        "id": "mOQHonDzyf10"
      },
      "source": [
        "import re"
      ],
      "execution_count": 8,
      "outputs": []
    },
    {
      "cell_type": "code",
      "metadata": {
        "id": "PlTX0xSpN6ZC"
      },
      "source": [
        "image_path=\"/content/EID.jpg\"\n"
      ],
      "execution_count": 9,
      "outputs": []
    },
    {
      "cell_type": "code",
      "metadata": {
        "id": "GQDS1rFeO9li",
        "colab": {
          "base_uri": "https://localhost:8080/"
        },
        "outputId": "10ec073f-c88e-4321-ea10-88501f3f7d72"
      },
      "source": [
        "extractedinformation = pytesseract.image_to_string(Image.open(image_path),lang='eng')\n",
        "#extractor = re.sub('[^0-9]', '',extractedinformation )\n",
        "print(\"The Emirates ID is\"+extractedinformation)"
      ],
      "execution_count": 10,
      "outputs": [
        {
          "output_type": "stream",
          "text": [
            "The Emirates ID isUnited Arab Emirates a baal dy pl) GLY! do\n",
            "\n",
            "Resident Identity Card prude digo dlay\n",
            "\n",
            "1D Number / dugg (od,\n",
            "784-2001-1234566-1\n",
            "Sample\n",
            "\n",
            "abt} ue aoe ent Hei!\n",
            "Name: Ahmed Mohamed Abdulla\n",
            "\n",
            "ole) taut\n",
            "\n",
            " \n",
            "\n",
            "Nationality: Tunisia\n",
            "\f\n"
          ],
          "name": "stdout"
        }
      ]
    },
    {
      "cell_type": "code",
      "metadata": {
        "id": "ZyoGfv0IF9ia"
      },
      "source": [
        "image = cv2.imread(\"/content/one.jpg\")\n",
        "gray = cv2.cvtColor(image, cv2.COLOR_BGR2GRAY)"
      ],
      "execution_count": null,
      "outputs": []
    },
    {
      "cell_type": "code",
      "metadata": {
        "id": "qvE-LLlWGRHJ"
      },
      "source": [
        "faceCascade = cv2.CascadeClassifier(cv2.data.haarcascades + \"haarcascade_frontalface_default.xml\")\n",
        "faces = faceCascade.detectMultiScale(\n",
        "    gray,\n",
        "    scaleFactor=1.3,\n",
        "    minNeighbors=3,\n",
        "    minSize=(20, 20)\n",
        ")"
      ],
      "execution_count": null,
      "outputs": []
    },
    {
      "cell_type": "code",
      "metadata": {
        "id": "DdkOYdYgGdTK",
        "colab": {
          "base_uri": "https://localhost:8080/",
          "height": 34
        },
        "outputId": "7edef37f-4621-4b3c-bca2-9855cadd58e0"
      },
      "source": [
        "print(\"[INFO] Found {0} Faces.\".format(len(faces)))"
      ],
      "execution_count": null,
      "outputs": [
        {
          "output_type": "stream",
          "text": [
            "[INFO] Found 2 Faces.\n"
          ],
          "name": "stdout"
        }
      ]
    },
    {
      "cell_type": "code",
      "metadata": {
        "id": "LjjV8fKiGr3Z"
      },
      "source": [
        "for (x, y, w, h) in faces:\n",
        "    cv2.rectangle(image, (x, y), (x + w, y + h), (0, 255, 0), 2)\n",
        "    roi_color = image[y:y + h, x:x + w]\n",
        "    #print(\"[INFO] Object found. Saving locally.\")\n",
        "    cv2.imwrite('_faces.jpg', roi_color)\n",
        "    #cv2.imwrite('faces_detected.jpg', image)\n",
        "    \n",
        "    "
      ],
      "execution_count": null,
      "outputs": []
    },
    {
      "cell_type": "code",
      "metadata": {
        "id": "14qu01kdJy7h",
        "colab": {
          "base_uri": "https://localhost:8080/",
          "height": 285
        },
        "outputId": "717e6866-ccc1-4b13-8774-888995a7829b"
      },
      "source": [
        "im1=Image.open(r\"_faces.jpg\")\n",
        "#im2=Image.open(r\"faces_detected.jpg\")\n",
        "plt.imshow(im1)\n",
        "#plt.imshow(im2)\n",
        "\n"
      ],
      "execution_count": null,
      "outputs": [
        {
          "output_type": "execute_result",
          "data": {
            "text/plain": [
              "<matplotlib.image.AxesImage at 0x7fb741846a90>"
            ]
          },
          "metadata": {
            "tags": []
          },
          "execution_count": 12
        },
        {
          "output_type": "display_data",
          "data": {
            "image/png": "[encoded data removed]",
            "text/plain": [
              "<Figure size 432x288 with 1 Axes>"
            ]
          },
          "metadata": {
            "tags": []
          }
        }
      ]
    }
  ]
}